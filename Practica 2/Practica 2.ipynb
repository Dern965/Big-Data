{
 "cells": [
  {
   "cell_type": "markdown",
   "metadata": {},
   "source": [
    "# Practica 2\n",
    "***\n",
    "Rodriguez Nuñez Diego Eduardo"
   ]
  },
  {
   "cell_type": "code",
   "execution_count": 1,
   "metadata": {},
   "outputs": [],
   "source": [
    "from pyspark.sql import SparkSession\n",
    "from pyspark.sql.functions import col, to_date, when, trim, regexp_replace, udf, row_number, lit, coalesce\n",
    "from pyspark.sql.types import IntegerType, FloatType, StringType, DateType\n",
    "from pyspark.sql.window import Window"
   ]
  },
  {
   "cell_type": "markdown",
   "metadata": {},
   "source": [
    "## Paso 1\n",
    "Cargar los datos en un DataFrame de Spark"
   ]
  },
  {
   "cell_type": "code",
   "execution_count": 2,
   "metadata": {},
   "outputs": [],
   "source": [
    "# Creamos la sesion de Spark\n",
    "spark = SparkSession.builder.appName(\"Limpieza de datos\").getOrCreate()"
   ]
  },
  {
   "cell_type": "code",
   "execution_count": 3,
   "metadata": {},
   "outputs": [],
   "source": [
    "# Cargamos el dataset\n",
    "df = spark.read.option(\"header\", \"true\").csv(\"datos_sucios.csv\", inferSchema=True)"
   ]
  },
  {
   "cell_type": "code",
   "execution_count": 4,
   "metadata": {},
   "outputs": [
    {
     "name": "stdout",
     "output_type": "stream",
     "text": [
      "+----+------+----------+---------------+----------+-------------+\n",
      "|  ID|   Nam|       Age|          Email| Join Date|       Salary|\n",
      "+----+------+----------+---------------+----------+-------------+\n",
      "| 1.0|  Juan|        25|  juan@mail.com|2021-06-15|         3000|\n",
      "| 2.0| Maria|veintiséis| maria@mail.com|2022-07-20|         2500|\n",
      "| 3.0|  NULL|        30|           NULL|06-08-2021|         4000|\n",
      "| 4.0| Pedro|      NULL|     pedro@mail|2020/05/30|         5000|\n",
      "| 5.0|   Ana|        22|   ana@mail.com|      NULL|         NULL|\n",
      "| 5.0|   Ana|        22|   ana@mail.com|2022-07-20|         2500|\n",
      "|NULL|Carlos|        40|carlos@mail.com|2019-12-01|Four thousand|\n",
      "| 7.0|M4nuel|        35|manuel@mail.com|01-01-2021|         3.5K|\n",
      "| 8.0|  Luis|   treinta|      luis@mail|2023-03-25|         6000|\n",
      "| 9.0|   123|        29|      luis@mail|2023-03-25|          NaN|\n",
      "+----+------+----------+---------------+----------+-------------+\n",
      "\n"
     ]
    }
   ],
   "source": [
    "df.show()"
   ]
  },
  {
   "cell_type": "markdown",
   "metadata": {},
   "source": [
    "## Paso 2\n",
    "Renombrar columnas con errores tipográficos"
   ]
  },
  {
   "cell_type": "code",
   "execution_count": 5,
   "metadata": {},
   "outputs": [
    {
     "name": "stdout",
     "output_type": "stream",
     "text": [
      "Columnas originales:  ['ID', 'Nam', 'Age', 'Email', 'Join Date', 'Salary']\n"
     ]
    }
   ],
   "source": [
    "# Obtenemos los nombres de las columnas\n",
    "columnas = df.columns\n",
    "print(\"Columnas originales: \",columnas)"
   ]
  },
  {
   "cell_type": "code",
   "execution_count": 6,
   "metadata": {},
   "outputs": [],
   "source": [
    "columnas_corregidas = {\n",
    "    'Nam' : 'Name'\n",
    "}"
   ]
  },
  {
   "cell_type": "code",
   "execution_count": 7,
   "metadata": {},
   "outputs": [],
   "source": [
    "for col_err, col_corr in columnas_corregidas.items():\n",
    "    if col_err in columnas:\n",
    "        df = df.withColumnRenamed(col_err, col_corr)"
   ]
  },
  {
   "cell_type": "code",
   "execution_count": 8,
   "metadata": {},
   "outputs": [
    {
     "name": "stdout",
     "output_type": "stream",
     "text": [
      "+----+------+----------+---------------+----------+-------------+\n",
      "|  ID|  Name|       Age|          Email| Join Date|       Salary|\n",
      "+----+------+----------+---------------+----------+-------------+\n",
      "| 1.0|  Juan|        25|  juan@mail.com|2021-06-15|         3000|\n",
      "| 2.0| Maria|veintiséis| maria@mail.com|2022-07-20|         2500|\n",
      "| 3.0|  NULL|        30|           NULL|06-08-2021|         4000|\n",
      "| 4.0| Pedro|      NULL|     pedro@mail|2020/05/30|         5000|\n",
      "| 5.0|   Ana|        22|   ana@mail.com|      NULL|         NULL|\n",
      "| 5.0|   Ana|        22|   ana@mail.com|2022-07-20|         2500|\n",
      "|NULL|Carlos|        40|carlos@mail.com|2019-12-01|Four thousand|\n",
      "| 7.0|M4nuel|        35|manuel@mail.com|01-01-2021|         3.5K|\n",
      "| 8.0|  Luis|   treinta|      luis@mail|2023-03-25|         6000|\n",
      "| 9.0|   123|        29|      luis@mail|2023-03-25|          NaN|\n",
      "+----+------+----------+---------------+----------+-------------+\n",
      "\n"
     ]
    }
   ],
   "source": [
    "df.show()"
   ]
  },
  {
   "cell_type": "markdown",
   "metadata": {},
   "source": [
    "## Paso 3\n",
    "Eliminar duplicados"
   ]
  },
  {
   "cell_type": "code",
   "execution_count": 9,
   "metadata": {},
   "outputs": [
    {
     "name": "stdout",
     "output_type": "stream",
     "text": [
      "+----+------+----------+---------------+----------+-------------+----------+\n",
      "|  ID|  Name|       Age|          Email| Join Date|       Salary|null-count|\n",
      "+----+------+----------+---------------+----------+-------------+----------+\n",
      "| 1.0|  Juan|        25|  juan@mail.com|2021-06-15|         3000|         0|\n",
      "| 2.0| Maria|veintiséis| maria@mail.com|2022-07-20|         2500|         0|\n",
      "| 3.0|  NULL|        30|           NULL|06-08-2021|         4000|         2|\n",
      "| 4.0| Pedro|      NULL|     pedro@mail|2020/05/30|         5000|         1|\n",
      "| 5.0|   Ana|        22|   ana@mail.com|      NULL|         NULL|         2|\n",
      "| 5.0|   Ana|        22|   ana@mail.com|2022-07-20|         2500|         0|\n",
      "|NULL|Carlos|        40|carlos@mail.com|2019-12-01|Four thousand|         1|\n",
      "| 7.0|M4nuel|        35|manuel@mail.com|01-01-2021|         3.5K|         0|\n",
      "| 8.0|  Luis|   treinta|      luis@mail|2023-03-25|         6000|         0|\n",
      "| 9.0|   123|        29|      luis@mail|2023-03-25|          NaN|         0|\n",
      "+----+------+----------+---------------+----------+-------------+----------+\n",
      "\n"
     ]
    }
   ],
   "source": [
    "# Contar nulos por fila\n",
    "df = df.withColumn(\"null-count\", sum([when(col(c).isNull(), 1).otherwise(0) for c in df.columns]))\n",
    "df.show()"
   ]
  },
  {
   "cell_type": "code",
   "execution_count": 10,
   "metadata": {},
   "outputs": [
    {
     "name": "stdout",
     "output_type": "stream",
     "text": [
      "+----+------+----------+---------------+----------+-------------+\n",
      "|  ID|  Name|       Age|          Email| Join Date|       Salary|\n",
      "+----+------+----------+---------------+----------+-------------+\n",
      "| 3.0|  NULL|        30|           NULL|06-08-2021|         4000|\n",
      "| 5.0|   Ana|        22|   ana@mail.com|2022-07-20|         2500|\n",
      "|NULL|Carlos|        40|carlos@mail.com|2019-12-01|Four thousand|\n",
      "| 1.0|  Juan|        25|  juan@mail.com|2021-06-15|         3000|\n",
      "| 8.0|  Luis|   treinta|      luis@mail|2023-03-25|         6000|\n",
      "| 7.0|M4nuel|        35|manuel@mail.com|01-01-2021|         3.5K|\n",
      "| 2.0| Maria|veintiséis| maria@mail.com|2022-07-20|         2500|\n",
      "| 4.0| Pedro|      NULL|     pedro@mail|2020/05/30|         5000|\n",
      "+----+------+----------+---------------+----------+-------------+\n",
      "\n"
     ]
    }
   ],
   "source": [
    "# Ordenar por ID, menor cantidad de nulos y priorizando ell ID mas bajo en caso de correos repetidos\n",
    "windowSpec = Window.partitionBy(\"Email\").orderBy(col(\"null-count\"), col(\"ID\"))\n",
    "\n",
    "# Asignar un numero de fila a cada registro\n",
    "df = df.withColumn(\"row_number\", row_number().over(windowSpec))\n",
    "\n",
    "# Filtrar solo los registros con row_number = 1\n",
    "df = df.filter(col(\"row_number\") == 1).drop(\"row_number\", \"null-count\")\n",
    "\n",
    "df.show()"
   ]
  },
  {
   "cell_type": "markdown",
   "metadata": {},
   "source": [
    "## Paso 4\n",
    "Reemplazar valores incorrectos"
   ]
  },
  {
   "cell_type": "markdown",
   "metadata": {},
   "source": [
    "### Primero tratamos el ID faltante"
   ]
  },
  {
   "cell_type": "code",
   "execution_count": 11,
   "metadata": {},
   "outputs": [
    {
     "name": "stdout",
     "output_type": "stream",
     "text": [
      "+---+------+----------+---------------+----------+-------------+\n",
      "| ID|  Name|       Age|          Email| Join Date|       Salary|\n",
      "+---+------+----------+---------------+----------+-------------+\n",
      "|1.0|  Juan|        25|  juan@mail.com|2021-06-15|         3000|\n",
      "|2.0| Maria|veintiséis| maria@mail.com|2022-07-20|         2500|\n",
      "|3.0|  NULL|        30|           NULL|06-08-2021|         4000|\n",
      "|4.0| Pedro|      NULL|     pedro@mail|2020/05/30|         5000|\n",
      "|5.0|   Ana|        22|   ana@mail.com|2022-07-20|         2500|\n",
      "|6.0|Carlos|        40|carlos@mail.com|2019-12-01|Four thousand|\n",
      "|7.0|M4nuel|        35|manuel@mail.com|01-01-2021|         3.5K|\n",
      "|8.0|  Luis|   treinta|      luis@mail|2023-03-25|         6000|\n",
      "+---+------+----------+---------------+----------+-------------+\n",
      "\n"
     ]
    }
   ],
   "source": [
    "# Obtener el ID maximo\n",
    "df = df.orderBy(\"ID\").withColumn(\"ID\", when(col(\"ID\").isNull(), lit(6)).otherwise(col(\"ID\")))\n",
    "\n",
    "df = df.orderBy(\"ID\")\n",
    "\n",
    "df.show()"
   ]
  },
  {
   "cell_type": "markdown",
   "metadata": {},
   "source": [
    "### Tratamos el nombre M4nuel"
   ]
  },
  {
   "cell_type": "code",
   "execution_count": 12,
   "metadata": {},
   "outputs": [
    {
     "name": "stdout",
     "output_type": "stream",
     "text": [
      "+---+------+----------+---------------+----------+-------------+\n",
      "| ID|  Name|       Age|          Email| Join Date|       Salary|\n",
      "+---+------+----------+---------------+----------+-------------+\n",
      "|1.0|  Juan|        25|  juan@mail.com|2021-06-15|         3000|\n",
      "|2.0| Maria|veintiséis| maria@mail.com|2022-07-20|         2500|\n",
      "|3.0|  NULL|        30|           NULL|06-08-2021|         4000|\n",
      "|4.0| Pedro|      NULL|     pedro@mail|2020/05/30|         5000|\n",
      "|5.0|   Ana|        22|   ana@mail.com|2022-07-20|         2500|\n",
      "|6.0|Carlos|        40|carlos@mail.com|2019-12-01|Four thousand|\n",
      "|7.0|Manuel|        35|manuel@mail.com|01-01-2021|         3.5K|\n",
      "|8.0|  Luis|   treinta|      luis@mail|2023-03-25|         6000|\n",
      "+---+------+----------+---------------+----------+-------------+\n",
      "\n"
     ]
    }
   ],
   "source": [
    "df = df.withColumn(\"Name\", regexp_replace(col(\"Name\"), \"M4nuel\", \"Manuel\"))\n",
    "\n",
    "df.show()"
   ]
  },
  {
   "cell_type": "markdown",
   "metadata": {},
   "source": [
    "### Llenamos los NULL con desconocido"
   ]
  },
  {
   "cell_type": "code",
   "execution_count": 13,
   "metadata": {},
   "outputs": [
    {
     "name": "stdout",
     "output_type": "stream",
     "text": [
      "+---+-----------+-----------+---------------+----------+-------------+\n",
      "| ID|       Name|        Age|          Email| Join Date|       Salary|\n",
      "+---+-----------+-----------+---------------+----------+-------------+\n",
      "|1.0|       Juan|         25|  juan@mail.com|2021-06-15|         3000|\n",
      "|2.0|      Maria| veintiséis| maria@mail.com|2022-07-20|         2500|\n",
      "|3.0|Desconocido|         30|    Desconocido|06-08-2021|         4000|\n",
      "|4.0|      Pedro|Desconocido|     pedro@mail|2020/05/30|         5000|\n",
      "|5.0|        Ana|         22|   ana@mail.com|2022-07-20|         2500|\n",
      "|6.0|     Carlos|         40|carlos@mail.com|2019-12-01|Four thousand|\n",
      "|7.0|     Manuel|         35|manuel@mail.com|01-01-2021|         3.5K|\n",
      "|8.0|       Luis|    treinta|      luis@mail|2023-03-25|         6000|\n",
      "+---+-----------+-----------+---------------+----------+-------------+\n",
      "\n"
     ]
    }
   ],
   "source": [
    "df = df.fillna(\"Desconocido\")\n",
    "\n",
    "df.show()"
   ]
  },
  {
   "cell_type": "markdown",
   "metadata": {},
   "source": [
    "### Tratamos las edades"
   ]
  },
  {
   "cell_type": "code",
   "execution_count": 14,
   "metadata": {},
   "outputs": [
    {
     "name": "stdout",
     "output_type": "stream",
     "text": [
      "+---+-----------+-----------+---------------+----------+-------------+\n",
      "| ID|       Name|        Age|          Email| Join Date|       Salary|\n",
      "+---+-----------+-----------+---------------+----------+-------------+\n",
      "|1.0|       Juan|         25|  juan@mail.com|2021-06-15|         3000|\n",
      "|2.0|      Maria|         26| maria@mail.com|2022-07-20|         2500|\n",
      "|3.0|Desconocido|         30|    Desconocido|06-08-2021|         4000|\n",
      "|4.0|      Pedro|Desconocido|     pedro@mail|2020/05/30|         5000|\n",
      "|5.0|        Ana|         22|   ana@mail.com|2022-07-20|         2500|\n",
      "|6.0|     Carlos|         40|carlos@mail.com|2019-12-01|Four thousand|\n",
      "|7.0|     Manuel|         35|manuel@mail.com|01-01-2021|         3.5K|\n",
      "|8.0|       Luis|         30|      luis@mail|2023-03-25|         6000|\n",
      "+---+-----------+-----------+---------------+----------+-------------+\n",
      "\n"
     ]
    }
   ],
   "source": [
    "df = df.withColumn(\"Age\", when(col(\"Age\") == 'veintiséis', lit(26)).when(col(\"Age\") == 'treinta', lit(30)).otherwise(col(\"Age\")))\n",
    "\n",
    "df.show()"
   ]
  },
  {
   "cell_type": "code",
   "execution_count": 15,
   "metadata": {},
   "outputs": [
    {
     "name": "stdout",
     "output_type": "stream",
     "text": [
      "+---+-----------+----+---------------+----------+-------------+\n",
      "| ID|       Name| Age|          Email| Join Date|       Salary|\n",
      "+---+-----------+----+---------------+----------+-------------+\n",
      "|1.0|       Juan|  25|  juan@mail.com|2021-06-15|         3000|\n",
      "|2.0|      Maria|  26| maria@mail.com|2022-07-20|         2500|\n",
      "|3.0|Desconocido|  30|    Desconocido|06-08-2021|         4000|\n",
      "|4.0|      Pedro|NULL|     pedro@mail|2020/05/30|         5000|\n",
      "|5.0|        Ana|  22|   ana@mail.com|2022-07-20|         2500|\n",
      "|6.0|     Carlos|  40|carlos@mail.com|2019-12-01|Four thousand|\n",
      "|7.0|     Manuel|  35|manuel@mail.com|01-01-2021|         3.5K|\n",
      "|8.0|       Luis|  30|      luis@mail|2023-03-25|         6000|\n",
      "+---+-----------+----+---------------+----------+-------------+\n",
      "\n"
     ]
    }
   ],
   "source": [
    "df = df.withColumn(\"Age\", when(col(\"Age\")== 'Desconocido', None).otherwise(col(\"Age\")))\n",
    "\n",
    "df.show()"
   ]
  },
  {
   "cell_type": "markdown",
   "metadata": {},
   "source": [
    "### Ahora tratamos la columna Salary para unificarlas en un mismo formato 🙏"
   ]
  },
  {
   "cell_type": "code",
   "execution_count": 16,
   "metadata": {},
   "outputs": [
    {
     "name": "stdout",
     "output_type": "stream",
     "text": [
      "+---+-----------+----+---------------+----------+------+\n",
      "| ID|       Name| Age|          Email| Join Date|Salary|\n",
      "+---+-----------+----+---------------+----------+------+\n",
      "|1.0|       Juan|  25|  juan@mail.com|2021-06-15|  3000|\n",
      "|2.0|      Maria|  26| maria@mail.com|2022-07-20|  2500|\n",
      "|3.0|Desconocido|  30|    Desconocido|06-08-2021|  4000|\n",
      "|4.0|      Pedro|NULL|     pedro@mail|2020/05/30|  5000|\n",
      "|5.0|        Ana|  22|   ana@mail.com|2022-07-20|  2500|\n",
      "|6.0|     Carlos|  40|carlos@mail.com|2019-12-01|  4000|\n",
      "|7.0|     Manuel|  35|manuel@mail.com|01-01-2021|  3500|\n",
      "|8.0|       Luis|  30|      luis@mail|2023-03-25|  6000|\n",
      "+---+-----------+----+---------------+----------+------+\n",
      "\n"
     ]
    }
   ],
   "source": [
    "df = df.withColumn(\"Salary\", regexp_replace(col(\"Salary\"), \"Four thousand\", \"4000\"))\n",
    "\n",
    "df = df.withColumn(\"Salary\", regexp_replace(col(\"Salary\"), \"3.5K\", \"3500\"))\n",
    "\n",
    "df.show()"
   ]
  },
  {
   "cell_type": "markdown",
   "metadata": {},
   "source": [
    "## Paso 5\n",
    "Convertir tipos de datos"
   ]
  },
  {
   "cell_type": "code",
   "execution_count": 17,
   "metadata": {},
   "outputs": [
    {
     "name": "stdout",
     "output_type": "stream",
     "text": [
      "root\n",
      " |-- ID: double (nullable = true)\n",
      " |-- Name: string (nullable = false)\n",
      " |-- Age: string (nullable = true)\n",
      " |-- Email: string (nullable = false)\n",
      " |-- Join Date: string (nullable = false)\n",
      " |-- Salary: string (nullable = false)\n",
      "\n"
     ]
    }
   ],
   "source": [
    "# Mostramos el esquema\n",
    "df.printSchema()"
   ]
  },
  {
   "cell_type": "code",
   "execution_count": 18,
   "metadata": {},
   "outputs": [
    {
     "name": "stdout",
     "output_type": "stream",
     "text": [
      "root\n",
      " |-- ID: integer (nullable = true)\n",
      " |-- Name: string (nullable = false)\n",
      " |-- Age: integer (nullable = true)\n",
      " |-- Email: string (nullable = false)\n",
      " |-- Join Date: string (nullable = false)\n",
      " |-- Salary: float (nullable = true)\n",
      "\n"
     ]
    }
   ],
   "source": [
    "# Convertimos los tipos de datos\n",
    "df = df.withColumn(\"ID\", col(\"ID\").cast(IntegerType()))\n",
    "df = df.withColumn(\"Age\", col(\"Age\").cast(IntegerType()))\n",
    "df = df.withColumn(\"Salary\", col(\"Salary\").cast(FloatType()))\n",
    "\n",
    "df.printSchema()"
   ]
  },
  {
   "cell_type": "markdown",
   "metadata": {},
   "source": [
    "## Paso 6 \n",
    "Normalizar formatos de fecha"
   ]
  },
  {
   "cell_type": "code",
   "execution_count": 19,
   "metadata": {},
   "outputs": [
    {
     "name": "stdout",
     "output_type": "stream",
     "text": [
      "root\n",
      " |-- ID: integer (nullable = true)\n",
      " |-- Name: string (nullable = false)\n",
      " |-- Age: integer (nullable = true)\n",
      " |-- Email: string (nullable = false)\n",
      " |-- Join Date: date (nullable = true)\n",
      " |-- Salary: float (nullable = true)\n",
      "\n"
     ]
    }
   ],
   "source": [
    "# Probar diferentes formatos de fecha y convertir a tipo DateType\n",
    "df = df.withColumn('Join Date', coalesce(\n",
    "    to_date(col('Join Date'), 'yyyy-MM-dd'),\n",
    "    to_date(col('Join Date'), 'dd-MM-yyyy'),\n",
    "    to_date(col('Join Date'), 'yyyy/MM/dd')\n",
    "))\n",
    "\n",
    "# Imprimir los tipos de datos actuales de cada columna\n",
    "df.printSchema()\n"
   ]
  },
  {
   "cell_type": "code",
   "execution_count": 20,
   "metadata": {},
   "outputs": [
    {
     "name": "stdout",
     "output_type": "stream",
     "text": [
      "+---+-----------+----+---------------+----------+------+\n",
      "| ID|       Name| Age|          Email| Join Date|Salary|\n",
      "+---+-----------+----+---------------+----------+------+\n",
      "|  1|       Juan|  25|  juan@mail.com|2021-06-15|3000.0|\n",
      "|  2|      Maria|  26| maria@mail.com|2022-07-20|2500.0|\n",
      "|  3|Desconocido|  30|    Desconocido|2021-08-06|4000.0|\n",
      "|  4|      Pedro|NULL|     pedro@mail|2020-05-30|5000.0|\n",
      "|  5|        Ana|  22|   ana@mail.com|2022-07-20|2500.0|\n",
      "|  6|     Carlos|  40|carlos@mail.com|2019-12-01|4000.0|\n",
      "|  7|     Manuel|  35|manuel@mail.com|2021-01-01|3500.0|\n",
      "|  8|       Luis|  30|      luis@mail|2023-03-25|6000.0|\n",
      "+---+-----------+----+---------------+----------+------+\n",
      "\n"
     ]
    }
   ],
   "source": [
    "df.show()"
   ]
  },
  {
   "cell_type": "markdown",
   "metadata": {},
   "source": [
    "## Paso 7\n",
    "Cargar los datos limpios en “datos_limpios.csv”"
   ]
  },
  {
   "cell_type": "code",
   "execution_count": 22,
   "metadata": {},
   "outputs": [
    {
     "name": "stdout",
     "output_type": "stream",
     "text": [
      "Datos limpios y unificados 🙏 guardados en datos_limpios.csv\n"
     ]
    }
   ],
   "source": [
    "# Guardar el dataset limpio\n",
    "df.repartition(1).write.mode(\"overwrite\").csv(r\"datos_limpios\")\n",
    "print(\"Datos limpios y unificados 🙏 guardados en datos_limpios.csv\")"
   ]
  },
  {
   "cell_type": "code",
   "execution_count": null,
   "metadata": {},
   "outputs": [],
   "source": []
  }
 ],
 "metadata": {
  "kernelspec": {
   "display_name": "Python 3",
   "language": "python",
   "name": "python3"
  },
  "language_info": {
   "codemirror_mode": {
    "name": "ipython",
    "version": 3
   },
   "file_extension": ".py",
   "mimetype": "text/x-python",
   "name": "python",
   "nbconvert_exporter": "python",
   "pygments_lexer": "ipython3",
   "version": "3.13.2"
  }
 },
 "nbformat": 4,
 "nbformat_minor": 2
}
