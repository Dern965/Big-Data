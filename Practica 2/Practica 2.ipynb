{
 "cells": [
  {
   "cell_type": "markdown",
   "metadata": {},
   "source": [
    "# Practica 2\n",
    "***\n",
    "Rodriguez Nuñez Diego Eduardo"
   ]
  },
  {
   "cell_type": "code",
   "execution_count": 1,
   "metadata": {},
   "outputs": [],
   "source": [
    "from pyspark.sql import SparkSession\n",
    "from pyspark.sql.functions import col, to_date, when, trim, regexp_replace, udf\n",
    "from pyspark.sql.types import IntegerType, FloatType, StringType, DateType"
   ]
  },
  {
   "cell_type": "markdown",
   "metadata": {},
   "source": [
    "## Paso 1\n",
    "Cargar los datos en un DataFrame de Spark"
   ]
  },
  {
   "cell_type": "code",
   "execution_count": 2,
   "metadata": {},
   "outputs": [],
   "source": [
    "# Creamos la sesion de Spark\n",
    "spark = SparkSession.builder.appName(\"Limpieza de datos\").getOrCreate()"
   ]
  },
  {
   "cell_type": "code",
   "execution_count": 3,
   "metadata": {},
   "outputs": [],
   "source": [
    "# Cargamos el dataset\n",
    "df = spark.read.option(\"header\", \"true\").csv(\"datos_sucios.csv\", inferSchema=True)"
   ]
  },
  {
   "cell_type": "code",
   "execution_count": 4,
   "metadata": {},
   "outputs": [
    {
     "name": "stdout",
     "output_type": "stream",
     "text": [
      "+----+------+----------+---------------+----------+-------------+\n",
      "|  ID|   Nam|       Age|          Email| Join Date|       Salary|\n",
      "+----+------+----------+---------------+----------+-------------+\n",
      "| 1.0|  Juan|        25|  juan@mail.com|2021-06-15|         3000|\n",
      "| 2.0| Maria|veintiséis| maria@mail.com|2022-07-20|         2500|\n",
      "| 3.0|  NULL|        30|           NULL|06-08-2021|         4000|\n",
      "| 4.0| Pedro|      NULL|     pedro@mail|2020/05/30|         5000|\n",
      "| 5.0|   Ana|        22|   ana@mail.com|      NULL|         NULL|\n",
      "| 5.0|   Ana|        22|   ana@mail.com|2022-07-20|         2500|\n",
      "|NULL|Carlos|        40|carlos@mail.com|2019-12-01|Four thousand|\n",
      "| 7.0|M4nuel|        35|manuel@mail.com|01-01-2021|         3.5K|\n",
      "| 8.0|  Luis|   treinta|      luis@mail|2023-03-25|         6000|\n",
      "| 9.0|   123|        29|      luis@mail|2023-03-25|          NaN|\n",
      "+----+------+----------+---------------+----------+-------------+\n",
      "\n"
     ]
    }
   ],
   "source": [
    "df.show()"
   ]
  },
  {
   "cell_type": "markdown",
   "metadata": {},
   "source": [
    "## Paso 2\n",
    "Renombrar columnas con errores tipográficos"
   ]
  },
  {
   "cell_type": "code",
   "execution_count": 5,
   "metadata": {},
   "outputs": [
    {
     "name": "stdout",
     "output_type": "stream",
     "text": [
      "Columnas originales:  ['ID', 'Nam', 'Age', 'Email', 'Join Date', 'Salary']\n"
     ]
    }
   ],
   "source": [
    "# Obtenemos los nombres de las columnas\n",
    "columnas = df.columns\n",
    "print(\"Columnas originales: \",columnas)"
   ]
  },
  {
   "cell_type": "code",
   "execution_count": 6,
   "metadata": {},
   "outputs": [],
   "source": [
    "columnas_corregidas = {\n",
    "    'Nam' : 'Name'\n",
    "}"
   ]
  },
  {
   "cell_type": "code",
   "execution_count": 7,
   "metadata": {},
   "outputs": [],
   "source": [
    "for col_err, col_corr in columnas_corregidas.items():\n",
    "    if col_err in columnas:\n",
    "        df = df.withColumnRenamed(col_err, col_corr)"
   ]
  },
  {
   "cell_type": "code",
   "execution_count": 8,
   "metadata": {},
   "outputs": [
    {
     "name": "stdout",
     "output_type": "stream",
     "text": [
      "+----+------+----------+---------------+----------+-------------+\n",
      "|  ID|  Name|       Age|          Email| Join Date|       Salary|\n",
      "+----+------+----------+---------------+----------+-------------+\n",
      "| 1.0|  Juan|        25|  juan@mail.com|2021-06-15|         3000|\n",
      "| 2.0| Maria|veintiséis| maria@mail.com|2022-07-20|         2500|\n",
      "| 3.0|  NULL|        30|           NULL|06-08-2021|         4000|\n",
      "| 4.0| Pedro|      NULL|     pedro@mail|2020/05/30|         5000|\n",
      "| 5.0|   Ana|        22|   ana@mail.com|      NULL|         NULL|\n",
      "| 5.0|   Ana|        22|   ana@mail.com|2022-07-20|         2500|\n",
      "|NULL|Carlos|        40|carlos@mail.com|2019-12-01|Four thousand|\n",
      "| 7.0|M4nuel|        35|manuel@mail.com|01-01-2021|         3.5K|\n",
      "| 8.0|  Luis|   treinta|      luis@mail|2023-03-25|         6000|\n",
      "| 9.0|   123|        29|      luis@mail|2023-03-25|          NaN|\n",
      "+----+------+----------+---------------+----------+-------------+\n",
      "\n"
     ]
    }
   ],
   "source": [
    "df.show()"
   ]
  },
  {
   "cell_type": "markdown",
   "metadata": {},
   "source": [
    "## Paso 3\n",
    "Eliminar duplicados"
   ]
  },
  {
   "cell_type": "code",
   "execution_count": 9,
   "metadata": {},
   "outputs": [],
   "source": [
    "df = df.dropDuplicates(['ID','Nombre', 'Edad', 'Email'])"
   ]
  },
  {
   "cell_type": "code",
   "execution_count": 10,
   "metadata": {},
   "outputs": [
    {
     "name": "stdout",
     "output_type": "stream",
     "text": [
      "+----+------+----------+---------------+----------+-------------+\n",
      "|  ID|Nombre|      Edad|          Email|     Fecha|      Salario|\n",
      "+----+------+----------+---------------+----------+-------------+\n",
      "|NULL|Carlos|        40|carlos@mail.com|2019-12-01|Four thousand|\n",
      "| 1.0|  Juan|        25|  juan@mail.com|2021-06-15|         3000|\n",
      "| 2.0| Maria|veintiséis| maria@mail.com|2022-07-20|         2500|\n",
      "| 3.0|  NULL|        30|           NULL|06-08-2021|         4000|\n",
      "| 4.0| Pedro|      NULL|     pedro@mail|2020/05/30|         5000|\n",
      "| 5.0|   Ana|        22|   ana@mail.com|      NULL|         NULL|\n",
      "| 7.0|M4nuel|        35|manuel@mail.com|01-01-2021|         3.5K|\n",
      "| 8.0|  Luis|   treinta|      luis@mail|2023-03-25|         6000|\n",
      "| 9.0|   123|        29|      luis@mail|2023-03-25|          NaN|\n",
      "+----+------+----------+---------------+----------+-------------+\n",
      "\n"
     ]
    }
   ],
   "source": [
    "df.show()"
   ]
  },
  {
   "cell_type": "markdown",
   "metadata": {},
   "source": [
    "## Paso 4\n",
    "Reemplazar valores incorrectos"
   ]
  },
  {
   "cell_type": "markdown",
   "metadata": {},
   "source": [
    "### Reemplazamos los valores en edad"
   ]
  },
  {
   "cell_type": "code",
   "execution_count": 11,
   "metadata": {},
   "outputs": [],
   "source": [
    "edad_diccionario = {\n",
    "    'veintiséis' : 26,\n",
    "    'treinta':30\n",
    "}"
   ]
  },
  {
   "cell_type": "code",
   "execution_count": 12,
   "metadata": {},
   "outputs": [],
   "source": [
    "for texto, valor in edad_diccionario.items():\n",
    "    df = df.withColumn('Edad', when(col('Edad') == texto, valor).otherwise(col('Edad')))"
   ]
  },
  {
   "cell_type": "markdown",
   "metadata": {},
   "source": [
    "### Manejar los valores nulos o incorrecto en el nombre"
   ]
  },
  {
   "cell_type": "code",
   "execution_count": null,
   "metadata": {},
   "outputs": [],
   "source": []
  },
  {
   "cell_type": "code",
   "execution_count": 13,
   "metadata": {},
   "outputs": [
    {
     "name": "stdout",
     "output_type": "stream",
     "text": [
      "+----+------+----+---------------+----------+-------------+\n",
      "|  ID|Nombre|Edad|          Email|     Fecha|      Salario|\n",
      "+----+------+----+---------------+----------+-------------+\n",
      "|NULL|Carlos|  40|carlos@mail.com|2019-12-01|Four thousand|\n",
      "| 1.0|  Juan|  25|  juan@mail.com|2021-06-15|         3000|\n",
      "| 2.0| Maria|  26| maria@mail.com|2022-07-20|         2500|\n",
      "| 3.0|  NULL|  30|           NULL|06-08-2021|         4000|\n",
      "| 4.0| Pedro|NULL|     pedro@mail|2020/05/30|         5000|\n",
      "| 5.0|   Ana|  22|   ana@mail.com|      NULL|         NULL|\n",
      "| 7.0|M4nuel|  35|manuel@mail.com|01-01-2021|         3.5K|\n",
      "| 8.0|  Luis|  30|      luis@mail|2023-03-25|         6000|\n",
      "| 9.0|   123|  29|      luis@mail|2023-03-25|          NaN|\n",
      "+----+------+----+---------------+----------+-------------+\n",
      "\n"
     ]
    }
   ],
   "source": [
    "df.show()"
   ]
  },
  {
   "cell_type": "code",
   "execution_count": null,
   "metadata": {},
   "outputs": [],
   "source": []
  }
 ],
 "metadata": {
  "kernelspec": {
   "display_name": "Python 3",
   "language": "python",
   "name": "python3"
  },
  "language_info": {
   "codemirror_mode": {
    "name": "ipython",
    "version": 3
   },
   "file_extension": ".py",
   "mimetype": "text/x-python",
   "name": "python",
   "nbconvert_exporter": "python",
   "pygments_lexer": "ipython3",
   "version": "3.13.2"
  }
 },
 "nbformat": 4,
 "nbformat_minor": 2
}
