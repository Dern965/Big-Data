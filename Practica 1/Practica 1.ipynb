{
 "cells": [
  {
   "cell_type": "markdown",
   "metadata": {},
   "source": [
    "# Practica 1: Spark\n",
    "***\n",
    "Rodriguez Nuñez Diego Eduardo"
   ]
  },
  {
   "cell_type": "code",
   "execution_count": 1,
   "metadata": {},
   "outputs": [],
   "source": [
    "import pandas as pd\n",
    "from pyspark.sql import SparkSession\n",
    "from pyspark.sql.functions import desc"
   ]
  },
  {
   "cell_type": "markdown",
   "metadata": {},
   "source": [
    "## Paso 1\n",
    "Descargar los datos de https://github.com/databricks/Spark-The-DefinitiveGuide/tree/master, leer los datos de los vuelos registrados en el archivo 2015-summary.csv y ordena los datos de acuerdo con la columna count, además imprime el plan de como se ejecuta esto en el cluster.\n"
   ]
  },
  {
   "cell_type": "code",
   "execution_count": 2,
   "metadata": {},
   "outputs": [],
   "source": [
    "# Creamos la sesion de Spark\n",
    "spark = SparkSession.builder.appName(\"Flight Analysis\").getOrCreate()"
   ]
  },
  {
   "cell_type": "code",
   "execution_count": 3,
   "metadata": {},
   "outputs": [],
   "source": [
    "# Cargamos lo datos\n",
    "df = spark.read.option(\"header\", \"true\").csv(\"2015-summary.csv\",inferSchema=True)"
   ]
  },
  {
   "cell_type": "code",
   "execution_count": 4,
   "metadata": {},
   "outputs": [],
   "source": [
    "# Ordenamos los datos por el numero de vuelos\n",
    "df = df.orderBy(desc(\"count\"))"
   ]
  },
  {
   "cell_type": "code",
   "execution_count": 5,
   "metadata": {},
   "outputs": [
    {
     "name": "stdout",
     "output_type": "stream",
     "text": [
      "== Physical Plan ==\n",
      "AdaptiveSparkPlan isFinalPlan=false\n",
      "+- Sort [count#19 DESC NULLS LAST], true, 0\n",
      "   +- Exchange rangepartitioning(count#19 DESC NULLS LAST, 200), ENSURE_REQUIREMENTS, [plan_id=27]\n",
      "      +- FileScan csv [DEST_COUNTRY_NAME#17,ORIGIN_COUNTRY_NAME#18,count#19] Batched: false, DataFilters: [], Format: CSV, Location: InMemoryFileIndex(1 paths)[file:/c:/Users/dern9/Desktop/Big-Data/Practica 1/2015-summary.csv], PartitionFilters: [], PushedFilters: [], ReadSchema: struct<DEST_COUNTRY_NAME:string,ORIGIN_COUNTRY_NAME:string,count:int>\n",
      "\n",
      "\n"
     ]
    }
   ],
   "source": [
    "# Mostramos el plan de ejecucion\n",
    "df.explain()"
   ]
  },
  {
   "cell_type": "markdown",
   "metadata": {},
   "source": [
    "## Paso 2\n",
    "Encuentra el máximo numero de vuelos desde y hacia cualquier ubicación determinada. "
   ]
  },
  {
   "cell_type": "code",
   "execution_count": 6,
   "metadata": {},
   "outputs": [
    {
     "name": "stdout",
     "output_type": "stream",
     "text": [
      "+-------------------+-------------+\n",
      "|ORIGIN_COUNTRY_NAME|total_flights|\n",
      "+-------------------+-------------+\n",
      "|      United States|       823318|\n",
      "|             Canada|        16882|\n",
      "|             Mexico|        14327|\n",
      "|     United Kingdom|         3995|\n",
      "|              Japan|         3044|\n",
      "|            Germany|         2804|\n",
      "| Dominican Republic|         2773|\n",
      "|        The Bahamas|         1941|\n",
      "|             France|         1887|\n",
      "|        South Korea|         1875|\n",
      "|           Colombia|         1740|\n",
      "|              China|         1692|\n",
      "|             Brazil|         1472|\n",
      "|        Netherlands|         1436|\n",
      "|            Jamaica|         1378|\n",
      "|         Costa Rica|         1196|\n",
      "|        El Salvador|         1069|\n",
      "|             Panama|          975|\n",
      "|               Cuba|          944|\n",
      "|              Spain|          862|\n",
      "+-------------------+-------------+\n",
      "only showing top 20 rows\n",
      "\n"
     ]
    }
   ],
   "source": [
    "# Agrupamos lo datos por origen y destino\n",
    "df_origin = df.groupBy(\"ORIGIN_COUNTRY_NAME\").sum(\"count\")\n",
    "df_dest = df.groupBy(\"DEST_COUNTRY_NAME\").sum(\"count\")\n",
    "\n",
    "# Unimos los dataframes\n",
    "df_total = df_origin.union(df_dest)\n",
    "\n",
    "# Encontramos el total de vuelos por pais\n",
    "df_max_locations = df_total.groupBy(\"ORIGIN_COUNTRY_NAME\").sum(\"sum(count)\").orderBy(desc(\"sum(sum(count))\")).withColumnRenamed(\"sum(sum(count))\", \"total_flights\")\n",
    "\n",
    "# Mostramos los resultados\n",
    "df_max_locations.show()"
   ]
  },
  {
   "cell_type": "markdown",
   "metadata": {},
   "source": [
    "## Paso 3\n",
    "Encuentra los top 5 destinos (países) en los datos y muéstralo en la terminal\n"
   ]
  },
  {
   "cell_type": "code",
   "execution_count": 7,
   "metadata": {},
   "outputs": [
    {
     "name": "stdout",
     "output_type": "stream",
     "text": [
      "+-----------------+----------+\n",
      "|DEST_COUNTRY_NAME|sum(count)|\n",
      "+-----------------+----------+\n",
      "|    United States|    411352|\n",
      "|           Canada|      8399|\n",
      "|           Mexico|      7140|\n",
      "|   United Kingdom|      2025|\n",
      "|            Japan|      1548|\n",
      "+-----------------+----------+\n",
      "only showing top 5 rows\n",
      "\n"
     ]
    }
   ],
   "source": [
    "df_top_5 = df.groupBy(\"DEST_COUNTRY_NAME\").sum(\"count\").orderBy(desc(\"sum(count)\"))\n",
    "df_top_5.show(5)"
   ]
  },
  {
   "cell_type": "markdown",
   "metadata": {},
   "source": [
    "## Consulta\n",
    "\n",
    "Contar los vuelos que tienen el mismo origen y destino"
   ]
  },
  {
   "cell_type": "code",
   "execution_count": 9,
   "metadata": {},
   "outputs": [
    {
     "name": "stdout",
     "output_type": "stream",
     "text": [
      "+-----------------+----------+\n",
      "|DEST_COUNTRY_NAME|sum(count)|\n",
      "+-----------------+----------+\n",
      "|    United States|    370002|\n",
      "+-----------------+----------+\n",
      "\n"
     ]
    }
   ],
   "source": [
    "df_consulta = df.filter(df.DEST_COUNTRY_NAME == df.ORIGIN_COUNTRY_NAME).groupBy(\"DEST_COUNTRY_NAME\").sum(\"count\").orderBy(desc(\"sum(count)\"))\n",
    "df_consulta.show()"
   ]
  },
  {
   "cell_type": "code",
   "execution_count": null,
   "metadata": {},
   "outputs": [],
   "source": []
  }
 ],
 "metadata": {
  "kernelspec": {
   "display_name": "Python 3",
   "language": "python",
   "name": "python3"
  },
  "language_info": {
   "codemirror_mode": {
    "name": "ipython",
    "version": 3
   },
   "file_extension": ".py",
   "mimetype": "text/x-python",
   "name": "python",
   "nbconvert_exporter": "python",
   "pygments_lexer": "ipython3",
   "version": "3.13.2"
  }
 },
 "nbformat": 4,
 "nbformat_minor": 2
}
