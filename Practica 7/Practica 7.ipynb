{
 "cells": [
  {
   "cell_type": "markdown",
   "id": "215ccf71",
   "metadata": {},
   "source": [
    "# Práctica: Analítica Empresarial con Big Data\n",
    "\n",
    "**Hipótesis:** Los usuarios que reciben envío gratis tienen una mayor tasa de conversión que los que no lo reciben."
   ]
  },
  {
   "cell_type": "markdown",
   "id": "6d926f10",
   "metadata": {},
   "source": [
    "## Paso 1: Cargar los datos"
   ]
  },
  {
   "cell_type": "code",
   "execution_count": 1,
   "id": "7afe5987",
   "metadata": {},
   "outputs": [
    {
     "data": {
      "text/html": [
       "<div>\n",
       "<style scoped>\n",
       "    .dataframe tbody tr th:only-of-type {\n",
       "        vertical-align: middle;\n",
       "    }\n",
       "\n",
       "    .dataframe tbody tr th {\n",
       "        vertical-align: top;\n",
       "    }\n",
       "\n",
       "    .dataframe thead th {\n",
       "        text-align: right;\n",
       "    }\n",
       "</style>\n",
       "<table border=\"1\" class=\"dataframe\">\n",
       "  <thead>\n",
       "    <tr style=\"text-align: right;\">\n",
       "      <th></th>\n",
       "      <th>TransactionID</th>\n",
       "      <th>Date</th>\n",
       "      <th>PurchaseAmount</th>\n",
       "      <th>FreeShipping</th>\n",
       "      <th>Converted</th>\n",
       "    </tr>\n",
       "  </thead>\n",
       "  <tbody>\n",
       "    <tr>\n",
       "      <th>0</th>\n",
       "      <td>1</td>\n",
       "      <td>2024-12-09</td>\n",
       "      <td>449.84</td>\n",
       "      <td>False</td>\n",
       "      <td>False</td>\n",
       "    </tr>\n",
       "    <tr>\n",
       "      <th>1</th>\n",
       "      <td>2</td>\n",
       "      <td>2024-12-22</td>\n",
       "      <td>407.40</td>\n",
       "      <td>False</td>\n",
       "      <td>False</td>\n",
       "    </tr>\n",
       "    <tr>\n",
       "      <th>2</th>\n",
       "      <td>3</td>\n",
       "      <td>2024-11-29</td>\n",
       "      <td>577.55</td>\n",
       "      <td>True</td>\n",
       "      <td>False</td>\n",
       "    </tr>\n",
       "    <tr>\n",
       "      <th>3</th>\n",
       "      <td>4</td>\n",
       "      <td>2024-11-15</td>\n",
       "      <td>440.84</td>\n",
       "      <td>False</td>\n",
       "      <td>False</td>\n",
       "    </tr>\n",
       "    <tr>\n",
       "      <th>4</th>\n",
       "      <td>5</td>\n",
       "      <td>2024-12-13</td>\n",
       "      <td>543.71</td>\n",
       "      <td>True</td>\n",
       "      <td>True</td>\n",
       "    </tr>\n",
       "  </tbody>\n",
       "</table>\n",
       "</div>"
      ],
      "text/plain": [
       "   TransactionID        Date  PurchaseAmount  FreeShipping  Converted\n",
       "0              1  2024-12-09          449.84         False      False\n",
       "1              2  2024-12-22          407.40         False      False\n",
       "2              3  2024-11-29          577.55          True      False\n",
       "3              4  2024-11-15          440.84         False      False\n",
       "4              5  2024-12-13          543.71          True       True"
      ]
     },
     "execution_count": 1,
     "metadata": {},
     "output_type": "execute_result"
    }
   ],
   "source": [
    "import pandas as pd\n",
    "\n",
    "df = pd.read_csv('retail_free_shipping_dataset.csv')\n",
    "df.head()"
   ]
  },
  {
   "cell_type": "markdown",
   "id": "2805d479",
   "metadata": {},
   "source": [
    "## Paso 2: Análisis descriptivo de tasas de conversión"
   ]
  },
  {
   "cell_type": "code",
   "execution_count": 2,
   "id": "8d40a18e",
   "metadata": {},
   "outputs": [
    {
     "data": {
      "image/png": "[encoded data removed]",
      "text/plain": [
       "<Figure size 600x400 with 1 Axes>"
      ]
     },
     "metadata": {},
     "output_type": "display_data"
    },
    {
     "data": {
      "text/html": [
       "<div>\n",
       "<style scoped>\n",
       "    .dataframe tbody tr th:only-of-type {\n",
       "        vertical-align: middle;\n",
       "    }\n",
       "\n",
       "    .dataframe tbody tr th {\n",
       "        vertical-align: top;\n",
       "    }\n",
       "\n",
       "    .dataframe thead th {\n",
       "        text-align: right;\n",
       "    }\n",
       "</style>\n",
       "<table border=\"1\" class=\"dataframe\">\n",
       "  <thead>\n",
       "    <tr style=\"text-align: right;\">\n",
       "      <th></th>\n",
       "      <th>FreeShipping</th>\n",
       "      <th>ConversionRate</th>\n",
       "    </tr>\n",
       "  </thead>\n",
       "  <tbody>\n",
       "    <tr>\n",
       "      <th>0</th>\n",
       "      <td>False</td>\n",
       "      <td>0.212538</td>\n",
       "    </tr>\n",
       "    <tr>\n",
       "      <th>1</th>\n",
       "      <td>True</td>\n",
       "      <td>0.277457</td>\n",
       "    </tr>\n",
       "  </tbody>\n",
       "</table>\n",
       "</div>"
      ],
      "text/plain": [
       "   FreeShipping  ConversionRate\n",
       "0         False        0.212538\n",
       "1          True        0.277457"
      ]
     },
     "execution_count": 2,
     "metadata": {},
     "output_type": "execute_result"
    }
   ],
   "source": [
    "conversion_rates = df.groupby(\"FreeShipping\")[\"Converted\"].mean().reset_index()\n",
    "conversion_rates.columns = [\"FreeShipping\", \"ConversionRate\"]\n",
    "\n",
    "import matplotlib.pyplot as plt\n",
    "\n",
    "plt.figure(figsize=(6, 4))\n",
    "plt.bar(conversion_rates[\"FreeShipping\"].astype(str), conversion_rates[\"ConversionRate\"])\n",
    "plt.title(\"Tasa de conversión según si hubo envío gratis\")\n",
    "plt.ylabel(\"Tasa de conversión\")\n",
    "plt.xlabel(\"¿Envío Gratis?\")\n",
    "plt.ylim(0, 1)\n",
    "plt.grid(axis='y')\n",
    "plt.show()\n",
    "\n",
    "conversion_rates"
   ]
  },
  {
   "cell_type": "markdown",
   "id": "bf662cc7",
   "metadata": {},
   "source": [
    "## Paso 3: Validación estadística con prueba de proporciones"
   ]
  },
  {
   "cell_type": "code",
   "execution_count": 3,
   "id": "58427f6b",
   "metadata": {},
   "outputs": [
    {
     "data": {
      "text/plain": [
       "(np.float64(-2.30319242501879), np.float64(0.02126801884226415))"
      ]
     },
     "execution_count": 3,
     "metadata": {},
     "output_type": "execute_result"
    }
   ],
   "source": [
    "from statsmodels.stats.proportion import proportions_ztest\n",
    "\n",
    "conversions = df.groupby(\"FreeShipping\")[\"Converted\"].sum()\n",
    "totals = df.groupby(\"FreeShipping\")[\"Converted\"].count()\n",
    "\n",
    "z_stat, p_value = proportions_ztest(count=conversions, nobs=totals)\n",
    "z_stat, p_value"
   ]
  },
  {
   "cell_type": "markdown",
   "id": "0d1431dc",
   "metadata": {},
   "source": [
    "### Conclusión:\n",
    "El valor p obtenido es menor a 0.05, por lo tanto, hay evidencia suficiente para concluir que **el envío gratis mejora la tasa de conversión**."
   ]
  }
 ],
 "metadata": {
  "kernelspec": {
   "display_name": "Python 3",
   "language": "python",
   "name": "python3"
  },
  "language_info": {
   "codemirror_mode": {
    "name": "ipython",
    "version": 3
   },
   "file_extension": ".py",
   "mimetype": "text/x-python",
   "name": "python",
   "nbconvert_exporter": "python",
   "pygments_lexer": "ipython3",
   "version": "3.13.2"
  }
 },
 "nbformat": 4,
 "nbformat_minor": 5
}
