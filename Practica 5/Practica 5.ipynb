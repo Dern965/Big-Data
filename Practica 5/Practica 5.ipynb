{
 "cells": [
  {
   "cell_type": "markdown",
   "id": "cd3ca354",
   "metadata": {},
   "source": [
    "# Practica 5\n",
    "***\n",
    "Rodriguez Nuñez Diego Eduardo"
   ]
  },
  {
   "cell_type": "code",
   "execution_count": 1,
   "id": "8a4ff0f5",
   "metadata": {},
   "outputs": [],
   "source": [
    "from pyspark.sql import SparkSession\n",
    "\n",
    "spark = SparkSession.builder \\\n",
    "    .appName(\"NaiveBayesSentimientos\") \\\n",
    "    .getOrCreate()\n"
   ]
  },
  {
   "cell_type": "code",
   "execution_count": 3,
   "id": "6fb7c40b",
   "metadata": {},
   "outputs": [
    {
     "name": "stdout",
     "output_type": "stream",
     "text": [
      "+--------------------+-----------+\n",
      "|               texto|sentimiento|\n",
      "+--------------------+-----------+\n",
      "|Me encanta este p...|   positivo|\n",
      "|Este producto es ...|   negativo|\n",
      "|La experiencia fu...|   positivo|\n",
      "|No me gusta el se...|   negativo|\n",
      "|Definitivamente l...|   positivo|\n",
      "+--------------------+-----------+\n",
      "only showing top 5 rows\n",
      "\n"
     ]
    }
   ],
   "source": [
    "df = spark.read.csv(\"sentimientos.csv\", header=True, inferSchema=True)\n",
    "df.show(5)\n"
   ]
  },
  {
   "cell_type": "code",
   "execution_count": 7,
   "id": "3b982929",
   "metadata": {},
   "outputs": [
    {
     "name": "stdout",
     "output_type": "stream",
     "text": [
      "root\n",
      " |-- texto: string (nullable = true)\n",
      " |-- sentimiento: string (nullable = true)\n",
      "\n",
      "+--------------------+-----------+\n",
      "|               texto|sentimiento|\n",
      "+--------------------+-----------+\n",
      "|Me encanta este p...|   positivo|\n",
      "|Este producto es ...|   negativo|\n",
      "|La experiencia fu...|   positivo|\n",
      "|No me gusta el se...|   negativo|\n",
      "|Definitivamente l...|   positivo|\n",
      "+--------------------+-----------+\n",
      "only showing top 5 rows\n",
      "\n"
     ]
    }
   ],
   "source": [
    "from pyspark.ml.feature import Tokenizer\n",
    "\n",
    "tokenizer = Tokenizer(inputCol=\"texto\", outputCol=\"palabras\")\n",
    "df_tokenized = tokenizer.transform(df)\n",
    "\n",
    "df.printSchema()\n",
    "df.show(5)\n",
    "\n"
   ]
  },
  {
   "cell_type": "code",
   "execution_count": 9,
   "id": "9005ad81",
   "metadata": {},
   "outputs": [],
   "source": [
    "from pyspark.ml.feature import CountVectorizer\n",
    "\n",
    "vectorizer = CountVectorizer(inputCol=\"palabras\", outputCol=\"features\")\n",
    "vectorizer_model = vectorizer.fit(df_tokenized)\n",
    "df_vectores = vectorizer_model.transform(df_tokenized)\n"
   ]
  },
  {
   "cell_type": "code",
   "execution_count": 10,
   "id": "5115f7dc",
   "metadata": {},
   "outputs": [],
   "source": [
    "from pyspark.sql.functions import when\n",
    "\n",
    "df_final = df_vectores.withColumn(\"label\", when(df_vectores.sentimiento == \"positivo\", 1).otherwise(0))\n"
   ]
  },
  {
   "cell_type": "code",
   "execution_count": 11,
   "id": "e11c39ae",
   "metadata": {},
   "outputs": [],
   "source": [
    "datos_entrenamiento, datos_prueba = df_final.randomSplit([0.8, 0.2], seed=42)\n"
   ]
  },
  {
   "cell_type": "code",
   "execution_count": 12,
   "id": "8aaffb6a",
   "metadata": {},
   "outputs": [],
   "source": [
    "from pyspark.ml.classification import NaiveBayes\n",
    "\n",
    "modelo = NaiveBayes(featuresCol=\"features\", labelCol=\"label\", modelType=\"multinomial\")\n",
    "modelo_entrenado = modelo.fit(datos_entrenamiento)\n"
   ]
  },
  {
   "cell_type": "code",
   "execution_count": 14,
   "id": "c246efde",
   "metadata": {},
   "outputs": [
    {
     "name": "stdout",
     "output_type": "stream",
     "text": [
      "+--------------------+-----+----------+\n",
      "|               texto|label|prediction|\n",
      "+--------------------+-----+----------+\n",
      "|El color no es co...|    0|       0.0|\n",
      "|El vendedor no re...|    0|       0.0|\n",
      "|Este producto no ...|    0|       0.0|\n",
      "|La experiencia fu...|    1|       0.0|\n",
      "|Me siento feliz c...|    1|       1.0|\n",
      "|No me gusta el se...|    0|       0.0|\n",
      "|lo volveri�a a co...|    1|       1.0|\n",
      "+--------------------+-----+----------+\n",
      "\n"
     ]
    }
   ],
   "source": [
    "predicciones = modelo_entrenado.transform(datos_prueba)\n",
    "predicciones.select(\"texto\", \"label\", \"prediction\").show(10)\n",
    "\n"
   ]
  },
  {
   "cell_type": "code",
   "execution_count": 15,
   "id": "284e9be9",
   "metadata": {},
   "outputs": [
    {
     "name": "stdout",
     "output_type": "stream",
     "text": [
      "Precisión del modelo: 85.71%\n"
     ]
    }
   ],
   "source": [
    "from pyspark.ml.evaluation import MulticlassClassificationEvaluator\n",
    "\n",
    "evaluador = MulticlassClassificationEvaluator(labelCol=\"label\", predictionCol=\"prediction\", metricName=\"accuracy\")\n",
    "precision = evaluador.evaluate(predicciones)\n",
    "\n",
    "print(f\"Precisión del modelo: {precision * 100:.2f}%\")\n"
   ]
  },
  {
   "cell_type": "code",
   "execution_count": null,
   "id": "66013d54",
   "metadata": {},
   "outputs": [],
   "source": []
  }
 ],
 "metadata": {
  "kernelspec": {
   "display_name": "Python 3",
   "language": "python",
   "name": "python3"
  },
  "language_info": {
   "codemirror_mode": {
    "name": "ipython",
    "version": 3
   },
   "file_extension": ".py",
   "mimetype": "text/x-python",
   "name": "python",
   "nbconvert_exporter": "python",
   "pygments_lexer": "ipython3",
   "version": "3.13.2"
  }
 },
 "nbformat": 4,
 "nbformat_minor": 5
}
